{
 "cells": [
  {
   "cell_type": "markdown",
   "metadata": {},
   "source": [
    "# ML Project - NYC Taxi trip Duration     \n",
    "```\n",
    "Guide : Prof.G.Srinivasaraghavan\n",
    "```"
   ]
  },
  {
   "cell_type": "markdown",
   "metadata": {
    "_cell_guid": "b3efb3c3-072d-41ea-a3c4-164a4f52970a",
    "_uuid": "045aaf43189604d7e6e5358b9118a87c6f6a4a3d"
   },
   "source": [
    "# Importing Libraries"
   ]
  },
  {
   "cell_type": "code",
   "execution_count": 1,
   "metadata": {
    "_cell_guid": "f36534af-2d91-4915-be92-02db57d13d12",
    "_uuid": "8eb85edb33881d6b1579ade62564169bb2c29088",
    "collapsed": true
   },
   "outputs": [],
   "source": [
    "# This Python 3 environment comes with many helpful analytics libraries installed\n",
    "# It is defined by the kaggle/python docker image: https://github.com/kaggle/docker-python\n",
    "# For example, here's several helpful packages to load in \n",
    "import numpy as np # linear algebra\n",
    "import pandas as pd # data processing, CSV file I/O (e.g. pd.read_csv)\n",
    "from datetime import timedelta\n",
    "import datetime as dt\n",
    "import matplotlib.pyplot as plt\n",
    "plt.rcParams['figure.figsize'] = [16, 10]\n",
    "import seaborn as sns\n",
    "import xgboost as xgb\n",
    "from sklearn.model_selection import train_test_split\n",
    "from sklearn.decomposition import PCA\n",
    "from sklearn.cluster import MiniBatchKMeans\n",
    "import datetime as dt\n",
    "\n",
    "# Any results you write to the current directory are saved as output."
   ]
  },
  {
   "cell_type": "code",
   "execution_count": 2,
   "metadata": {
    "_cell_guid": "0d102856-b123-458b-8ee0-4c669d6dd868",
    "_uuid": "17477f473d0ee1cd3e7a3a6690e143d4e1ac0ba5",
    "collapsed": true
   },
   "outputs": [],
   "source": [
    "t0 = dt.datetime.now()\n",
    "train = pd.read_csv('../input/nyc-taxi-trip-duration/train.csv')\n",
    "test = pd.read_csv('../input/nyc-taxi-trip-duration/test.csv')\n",
    "sample_submission = pd.read_csv('../input/nyc-taxi-trip-duration/sample_submission.csv')\n",
    "test_1 = test.copy()"
   ]
  },
  {
   "cell_type": "markdown",
   "metadata": {
    "_cell_guid": "78e50c7a-2f20-42ef-a4bd-36f7cd07aa2e",
    "_uuid": "0a5ab9e48951520ee44c2f74974293a98fadce2f"
   },
   "source": [
    "# Feature Engineering"
   ]
  },
  {
   "cell_type": "markdown",
   "metadata": {
    "_cell_guid": "07b21106-6830-4edf-8d9b-169d9844f0f9",
    "_uuid": "5e31687f59b4eef4ebe035745136e2d0e7254cdd"
   },
   "source": [
    "### Conversion of DATETIME Features"
   ]
  },
  {
   "cell_type": "code",
   "execution_count": 3,
   "metadata": {
    "_cell_guid": "8d9e894f-d692-4880-b47a-34a04d84ec9f",
    "_uuid": "af2910dee892104cde38824fdeb1a0134671be9a",
    "collapsed": true
   },
   "outputs": [],
   "source": [
    "train['pickup_datetime'] = pd.to_datetime(train.pickup_datetime)\n",
    "test['pickup_datetime'] = pd.to_datetime(test.pickup_datetime)\n",
    "train.loc[:, 'pickup_date'] = train['pickup_datetime'].dt.date\n",
    "test.loc[:, 'pickup_date'] = test['pickup_datetime'].dt.date\n",
    "train['dropoff_datetime'] = pd.to_datetime(train.dropoff_datetime)\n"
   ]
  },
  {
   "cell_type": "markdown",
   "metadata": {
    "_cell_guid": "dd60678a-0d60-458a-a1f3-1fd681b91535",
    "_uuid": "f1c4e5c16586ce84c5cc855e145686592b5fdad6"
   },
   "source": [
    "### DateTime Features"
   ]
  },
  {
   "cell_type": "code",
   "execution_count": 4,
   "metadata": {
    "_cell_guid": "8b075e7a-30db-40a2-b337-40a55820f514",
    "_uuid": "bc96e37d272431d3b8cb52663f024a460b3da046",
    "collapsed": true
   },
   "outputs": [],
   "source": [
    "train.loc[:, 'pickup_weekday'] = train['pickup_datetime'].dt.weekday\n",
    "train.loc[:, 'pickup_hour_weekofyear'] = train['pickup_datetime'].dt.weekofyear\n",
    "train.loc[:, 'pickup_hour'] = train['pickup_datetime'].dt.hour\n",
    "train.loc[:, 'pickup_minute'] = train['pickup_datetime'].dt.minute\n",
    "train.loc[:, 'pickup_dt'] = (train['pickup_datetime'] - train['pickup_datetime'].min()).dt.total_seconds()\n",
    "train.loc[:, 'pickup_week_hour'] = train['pickup_weekday'] * 24 + train['pickup_hour']\n",
    "\n",
    "test.loc[:, 'pickup_weekday'] = test['pickup_datetime'].dt.weekday\n",
    "test.loc[:, 'pickup_hour_weekofyear'] = test['pickup_datetime'].dt.weekofyear\n",
    "test.loc[:, 'pickup_hour'] = test['pickup_datetime'].dt.hour\n",
    "test.loc[:, 'pickup_minute'] = test['pickup_datetime'].dt.minute\n",
    "test.loc[:, 'pickup_dt'] = (test['pickup_datetime'] - train['pickup_datetime'].min()).dt.total_seconds()\n",
    "test.loc[:, 'pickup_week_hour'] = test['pickup_weekday'] * 24 + test['pickup_hour']\n",
    "\n",
    "train.loc[:, 'pickup_dayofyear'] = train['pickup_datetime'].dt.dayofyear\n",
    "test.loc[:,'pickup_dayofyear'] = test['pickup_datetime'].dt.dayofyear"
   ]
  },
  {
   "cell_type": "markdown",
   "metadata": {
    "_cell_guid": "75ba15bd-aa92-41c6-8068-a02718a260ba",
    "_uuid": "c77508b1859beec9b7de39b47af9bc13f53a7a7d"
   },
   "source": [
    "### Bearing Feature"
   ]
  },
  {
   "cell_type": "code",
   "execution_count": 5,
   "metadata": {
    "_cell_guid": "9643a807-df80-4794-b709-0afc6babf33d",
    "_uuid": "c84ffec14bc8d87023e7528682c733a9877ed947",
    "collapsed": true
   },
   "outputs": [],
   "source": [
    "def bearing_array(lat1, lng1, lat2, lng2):\n",
    "    AVG_EARTH_RADIUS = 6371  # in km\n",
    "    lng_delta_rad = np.radians(lng2 - lng1)\n",
    "    lat1, lng1, lat2, lng2 = map(np.radians, (lat1, lng1, lat2, lng2))\n",
    "    y = np.sin(lng_delta_rad) * np.cos(lat2)\n",
    "    x = np.cos(lat1) * np.sin(lat2) - np.sin(lat1) * np.cos(lat2) * np.cos(lng_delta_rad)\n",
    "    return np.degrees(np.arctan2(y, x))\n",
    "\n",
    "train.loc[:, 'direction'] = bearing_array(train['pickup_latitude'].values, train['pickup_longitude'].values, \n",
    "                                          train['dropoff_latitude'].values, train['dropoff_longitude'].values)\n",
    "\n",
    "test.loc[:, 'direction'] = bearing_array(test['pickup_latitude'].values, test['pickup_longitude'].values, \n",
    "                                         test['dropoff_latitude'].values, test['dropoff_longitude'].values)\n"
   ]
  },
  {
   "cell_type": "markdown",
   "metadata": {
    "_cell_guid": "7dbabcde-8ad5-4d7d-ae73-32f7c817e83f",
    "_uuid": "9b5a68218fdc2852fa69e2bf40ef3cac476f9fe2"
   },
   "source": [
    "### Distance Calculation"
   ]
  },
  {
   "cell_type": "code",
   "execution_count": 6,
   "metadata": {
    "_cell_guid": "e19d9a92-46ca-4f93-be0a-befbf7eb4d60",
    "_uuid": "19cc8a3a2d4b2dd73ad42606e49fa5afa9da5ada",
    "collapsed": true
   },
   "outputs": [],
   "source": [
    "def haversine_array(lat1, lng1, lat2, lng2):\n",
    "    lat1, lng1, lat2, lng2 = map(np.radians, (lat1, lng1, lat2, lng2))\n",
    "    AVG_EARTH_RADIUS = 6371  # in km\n",
    "    lat = lat2 - lat1\n",
    "    lng = lng2 - lng1\n",
    "    d = np.sin(lat * 0.5) ** 2 + np.cos(lat1) * np.cos(lat2) * np.sin(lng * 0.5) ** 2\n",
    "    h = 2 * AVG_EARTH_RADIUS * np.arcsin(np.sqrt(d))\n",
    "    return h\n",
    "\n",
    "def dummy_manhattan_distance(lat1, lng1, lat2, lng2):\n",
    "    a = haversine_array(lat1, lng1, lat1, lng2)\n",
    "    b = haversine_array(lat1, lng1, lat2, lng1)\n",
    "    return a + b\n",
    "\n",
    "train.loc[:, 'distance_haversine'] = haversine_array(train['pickup_latitude'].values, train['pickup_longitude'].values, train['dropoff_latitude'].values, train['dropoff_longitude'].values)\n",
    "train.loc[:, 'distance_dummy_manhattan'] = dummy_manhattan_distance(train['pickup_latitude'].values, train['pickup_longitude'].values, train['dropoff_latitude'].values, train['dropoff_longitude'].values)\n",
    "\n",
    "\n",
    "test.loc[:, 'distance_haversine'] = haversine_array(test['pickup_latitude'].values, test['pickup_longitude'].values, test['dropoff_latitude'].values, test['dropoff_longitude'].values)\n",
    "test.loc[:, 'distance_dummy_manhattan'] = dummy_manhattan_distance(test['pickup_latitude'].values, test['pickup_longitude'].values, test['dropoff_latitude'].values, test['dropoff_longitude'].values)\n",
    "\n",
    "\n",
    "\n",
    "train.loc[:, 'center_latitude'] = (train['pickup_latitude'].values + train['dropoff_latitude'].values) / 2\n",
    "train.loc[:, 'center_longitude'] = (train['pickup_longitude'].values + train['dropoff_longitude'].values) / 2\n",
    "test.loc[:, 'center_latitude'] = (test['pickup_latitude'].values + test['dropoff_latitude'].values) / 2\n",
    "test.loc[:, 'center_longitude'] = (test['pickup_longitude'].values + test['dropoff_longitude'].values) / 2"
   ]
  },
  {
   "cell_type": "markdown",
   "metadata": {
    "_cell_guid": "81a5a79e-9bbb-4c4f-89c7-ef738fe569c8",
    "_uuid": "5d31acbed3c2a215e724bdb593c815b438a950cd"
   },
   "source": [
    "### PCA Features"
   ]
  },
  {
   "cell_type": "code",
   "execution_count": 7,
   "metadata": {
    "_cell_guid": "b8f5e474-bfd0-4d4f-ab91-5443cb4db66b",
    "_uuid": "f9c3ce5c5d4b25607b72230005f17a769f67d6e1",
    "collapsed": true
   },
   "outputs": [],
   "source": [
    "coords = np.vstack((train[['pickup_latitude', 'pickup_longitude']].values,\n",
    "                    train[['dropoff_latitude', 'dropoff_longitude']].values,\n",
    "                    test[['pickup_latitude', 'pickup_longitude']].values,\n",
    "                    test[['dropoff_latitude', 'dropoff_longitude']].values))\n",
    "\n",
    "pca = PCA().fit(coords)\n"
   ]
  },
  {
   "cell_type": "code",
   "execution_count": 8,
   "metadata": {
    "_cell_guid": "4b78ff78-6242-4ef8-9ac4-cd3e30735109",
    "_uuid": "a7de9daaaffa4a8be6f0836a21ebbf125d1173fa",
    "collapsed": true
   },
   "outputs": [],
   "source": [
    "train['pickup_pca0'] = pca.transform(train[['pickup_latitude', 'pickup_longitude']])[:, 0]\n",
    "train['pickup_pca1'] = pca.transform(train[['pickup_latitude', 'pickup_longitude']])[:, 1]\n",
    "train['dropoff_pca0'] = pca.transform(train[['dropoff_latitude', 'dropoff_longitude']])[:, 0]\n",
    "train['dropoff_pca1'] = pca.transform(train[['dropoff_latitude', 'dropoff_longitude']])[:, 1]\n",
    "test['pickup_pca0'] = pca.transform(test[['pickup_latitude', 'pickup_longitude']])[:, 0]\n",
    "test['pickup_pca1'] = pca.transform(test[['pickup_latitude', 'pickup_longitude']])[:, 1]\n",
    "test['dropoff_pca0'] = pca.transform(test[['dropoff_latitude', 'dropoff_longitude']])[:, 0]\n",
    "test['dropoff_pca1'] = pca.transform(test[['dropoff_latitude', 'dropoff_longitude']])[:, 1]\n",
    "\n",
    "train.loc[:, 'pca_manhattan'] = np.abs(train['dropoff_pca1'] - train['pickup_pca1']) + np.abs(train['dropoff_pca0'] - train['pickup_pca0'])\n",
    "test.loc[:, 'pca_manhattan'] = np.abs(test['dropoff_pca1'] - test['pickup_pca1']) + np.abs(test['dropoff_pca0'] - test['pickup_pca0'])"
   ]
  },
  {
   "cell_type": "markdown",
   "metadata": {
    "_cell_guid": "792caa6b-7f88-4f3d-818e-619a468500e9",
    "_uuid": "d68f565f24ca1a7f12f078b1e4600d2ef583b6e7"
   },
   "source": [
    "### Clustering Features"
   ]
  },
  {
   "cell_type": "code",
   "execution_count": 9,
   "metadata": {
    "_cell_guid": "d64dcf59-fc8d-4fd0-9d40-15892b822c3e",
    "_uuid": "47457f290b2eca9e1e2d435b2223bf3c1173197a",
    "collapsed": true
   },
   "outputs": [],
   "source": [
    "sample_ind = np.random.permutation(len(coords))[:500000]\n",
    "kmeans = MiniBatchKMeans(n_clusters=100, batch_size=10000).fit(coords[sample_ind])"
   ]
  },
  {
   "cell_type": "code",
   "execution_count": 10,
   "metadata": {
    "_cell_guid": "e824f392-eaff-40ef-b9af-b1a31639f39d",
    "_uuid": "a1540023c5ecc7f240e7715b01ef0fc08163d5d1",
    "collapsed": true
   },
   "outputs": [],
   "source": [
    "train.loc[:, 'pickup_cluster'] = kmeans.predict(train[['pickup_latitude', 'pickup_longitude']])\n",
    "train.loc[:, 'dropoff_cluster'] = kmeans.predict(train[['dropoff_latitude', 'dropoff_longitude']])\n",
    "test.loc[:, 'pickup_cluster'] = kmeans.predict(test[['pickup_latitude', 'pickup_longitude']])\n",
    "test.loc[:, 'dropoff_cluster'] = kmeans.predict(test[['dropoff_latitude', 'dropoff_longitude']])\n",
    "t1 = dt.datetime.now()"
   ]
  },
  {
   "cell_type": "markdown",
   "metadata": {
    "_cell_guid": "974af378-c328-451e-8486-981bbefb4464",
    "_uuid": "4e28d19de914f1f01c7ea41092f67bbae91b1723"
   },
   "source": [
    "## OSRM Data"
   ]
  },
  {
   "cell_type": "code",
   "execution_count": 11,
   "metadata": {
    "_cell_guid": "1528dc60-522a-4099-a43c-56c95a48a1d5",
    "_uuid": "58fb8a1e16365bc25d49a9bace100e9fa52f5a93",
    "collapsed": true
   },
   "outputs": [],
   "source": [
    "fr1 = pd.read_csv('../input/new-york-city-taxi-with-osrm/fastest_routes_train_part_1.csv', usecols=['id', 'total_distance', 'total_travel_time',  'number_of_steps', ])\n",
    "fr2 = pd.read_csv('../input/new-york-city-taxi-with-osrm//fastest_routes_train_part_2.csv', usecols=['id', 'total_distance', 'total_travel_time', 'number_of_steps'])\n",
    "test_street_info = pd.read_csv('../input/new-york-city-taxi-with-osrm//fastest_routes_test.csv',\n",
    "                               usecols=['id', 'total_distance', 'total_travel_time', 'number_of_steps'])"
   ]
  },
  {
   "cell_type": "code",
   "execution_count": 12,
   "metadata": {
    "_cell_guid": "f97fd3f7-d09a-49f3-bd1c-dc60f8f145e3",
    "_uuid": "8c826a60648eb0fe472053a0ab7c9f174acbe393",
    "collapsed": true
   },
   "outputs": [],
   "source": [
    "train_street_info = pd.concat((fr1, fr2))\n",
    "train = train.merge(train_street_info, how='left', on='id')\n",
    "test = test.merge(test_street_info, how='left', on='id')"
   ]
  },
  {
   "cell_type": "markdown",
   "metadata": {
    "_cell_guid": "01b39919-6cf9-4e6b-b89b-142fefa0951a",
    "_uuid": "22dacde008108af2f8338f22c7274bd6e46ee9d5"
   },
   "source": [
    "### Features Checking"
   ]
  },
  {
   "cell_type": "code",
   "execution_count": 13,
   "metadata": {
    "_cell_guid": "53508e1f-93b8-4334-a650-a07fee6ed34d",
    "_uuid": "58890cbea7cf342b0d8ef86a72fb7a7494ff99cb",
    "collapsed": true
   },
   "outputs": [],
   "source": [
    "train['log_trip_duration'] = np.log(train['trip_duration'].values + 1)"
   ]
  },
  {
   "cell_type": "code",
   "execution_count": 14,
   "metadata": {
    "_cell_guid": "7a6b2d5f-839a-4d47-8143-9134910305e5",
    "_uuid": "0e8dd8ae20a18b43a10f4b699ef90ff1b5ee84ef"
   },
   "outputs": [
    {
     "name": "stdout",
     "output_type": "stream",
     "text": [
      "['dropoff_datetime' 'log_trip_duration' 'trip_duration']\n"
     ]
    }
   ],
   "source": [
    "feature_names = list(train.columns)\n",
    "print(np.setdiff1d(train.columns, test.columns))\n"
   ]
  },
  {
   "cell_type": "code",
   "execution_count": 15,
   "metadata": {
    "_cell_guid": "afa61e1c-97d4-4eac-b2cf-516228b4f50a",
    "_uuid": "4c093fa09204f16673e47185ffec3b6eeb40153f"
   },
   "outputs": [
    {
     "name": "stdout",
     "output_type": "stream",
     "text": [
      "We have 29 features.\n"
     ]
    },
    {
     "data": {
      "text/plain": [
       "vendor_id                   1458644\n",
       "passenger_count             1458644\n",
       "pickup_longitude            1458644\n",
       "pickup_latitude             1458644\n",
       "dropoff_longitude           1458644\n",
       "dropoff_latitude            1458644\n",
       "store_and_fwd_flag          1458644\n",
       "pickup_weekday              1458644\n",
       "pickup_hour_weekofyear      1458644\n",
       "pickup_hour                 1458644\n",
       "pickup_minute               1458644\n",
       "pickup_dt                   1458644\n",
       "pickup_week_hour            1458644\n",
       "pickup_dayofyear            1458644\n",
       "direction                   1458644\n",
       "distance_haversine          1458644\n",
       "distance_dummy_manhattan    1458644\n",
       "center_latitude             1458644\n",
       "center_longitude            1458644\n",
       "pickup_pca0                 1458644\n",
       "pickup_pca1                 1458644\n",
       "dropoff_pca0                1458644\n",
       "dropoff_pca1                1458644\n",
       "pca_manhattan               1458644\n",
       "pickup_cluster              1458644\n",
       "dropoff_cluster             1458644\n",
       "total_distance              1458643\n",
       "total_travel_time           1458643\n",
       "number_of_steps             1458643\n",
       "dtype: int64"
      ]
     },
     "execution_count": 15,
     "metadata": {},
     "output_type": "execute_result"
    }
   ],
   "source": [
    "do_not_use_for_training = ['id', 'log_trip_duration', 'trip_duration', 'dropoff_datetime', 'pickup_date', \n",
    "                           'pickup_datetime', 'date']\n",
    "feature_names = [f for f in train.columns if f not in do_not_use_for_training]\n",
    "# print(feature_names)\n",
    "print('We have %i features.' % len(feature_names))\n",
    "train[feature_names].count()\n",
    "         "
   ]
  },
  {
   "cell_type": "markdown",
   "metadata": {
    "_cell_guid": "bae6ed5e-8248-45df-a234-7e01e37c576f",
    "_uuid": "f8877c9ad4516368e7478859128129761cddfb86"
   },
   "source": [
    "### Features Encoding "
   ]
  },
  {
   "cell_type": "code",
   "execution_count": 16,
   "metadata": {
    "_cell_guid": "46e34e19-cad9-4db9-bfd5-0101c23b41d4",
    "_uuid": "3bd1df273eb279576655d5ff1a4fcbb1c8a53161",
    "collapsed": true
   },
   "outputs": [],
   "source": [
    "train['store_and_fwd_flag'] = train['store_and_fwd_flag'].map(lambda x: 0 if x == 'N' else 1)"
   ]
  },
  {
   "cell_type": "code",
   "execution_count": 17,
   "metadata": {
    "_cell_guid": "5e79ef29-bc6a-4192-b12b-18b57c1e5494",
    "_uuid": "396b0e0ef56a83c4daf3b780567c584a58277fed",
    "collapsed": true
   },
   "outputs": [],
   "source": [
    "test['store_and_fwd_flag'] = test['store_and_fwd_flag'].map(lambda x: 0 if x == 'N' else 1)"
   ]
  },
  {
   "cell_type": "markdown",
   "metadata": {
    "_cell_guid": "c2f874be-410a-4a01-b0c4-4a66b876b95c",
    "_uuid": "4fb025c09b99834da9c821c7d264a75bcb893a41",
    "collapsed": true
   },
   "source": [
    "### K Fold Cross Validation"
   ]
  },
  {
   "cell_type": "code",
   "execution_count": 18,
   "metadata": {
    "_cell_guid": "72715a79-e072-448a-82db-b91171414a1b",
    "_uuid": "0578f508d5331705c0ae8ad74e044721384e2dbe"
   },
   "outputs": [
    {
     "name": "stdout",
     "output_type": "stream",
     "text": [
      "KFold(n_splits=10, random_state=None, shuffle=False)\n",
      "TRAIN: [ 145865  145866  145867 ..., 1458641 1458642 1458643] TEST: [     0      1      2 ..., 145862 145863 145864]\n",
      "TRAIN: [      0       1       2 ..., 1458641 1458642 1458643] TEST: [145865 145866 145867 ..., 291727 291728 291729]\n",
      "TRAIN: [      0       1       2 ..., 1458641 1458642 1458643] TEST: [291730 291731 291732 ..., 437592 437593 437594]\n",
      "TRAIN: [      0       1       2 ..., 1458641 1458642 1458643] TEST: [437595 437596 437597 ..., 583457 583458 583459]\n",
      "TRAIN: [      0       1       2 ..., 1458641 1458642 1458643] TEST: [583460 583461 583462 ..., 729321 729322 729323]\n",
      "TRAIN: [      0       1       2 ..., 1458641 1458642 1458643] TEST: [729324 729325 729326 ..., 875185 875186 875187]\n",
      "TRAIN: [      0       1       2 ..., 1458641 1458642 1458643] TEST: [ 875188  875189  875190 ..., 1021049 1021050 1021051]\n",
      "TRAIN: [      0       1       2 ..., 1458641 1458642 1458643] TEST: [1021052 1021053 1021054 ..., 1166913 1166914 1166915]\n",
      "TRAIN: [      0       1       2 ..., 1458641 1458642 1458643] TEST: [1166916 1166917 1166918 ..., 1312777 1312778 1312779]\n",
      "TRAIN: [      0       1       2 ..., 1312777 1312778 1312779] TEST: [1312780 1312781 1312782 ..., 1458641 1458642 1458643]\n"
     ]
    }
   ],
   "source": [
    "from sklearn.model_selection import KFold\n",
    "\n",
    "X = train[feature_names].values\n",
    "y = np.log(train['trip_duration'].values + 1)  \n",
    "\n",
    "\n",
    "kf = KFold(n_splits=10)\n",
    "kf.get_n_splits(X)\n",
    "\n",
    "print(kf)  \n",
    "\n",
    "KFold(n_splits=10, random_state=None, shuffle=False)\n",
    "for train_index, test_index in kf.split(X):\n",
    "    print(\"TRAIN:\", train_index, \"TEST:\", test_index)\n",
    "    X_train, X_test = X[train_index], X[test_index]\n",
    "    y_train, y_test = y[train_index], y[test_index]\n",
    "    \n",
    "    \n",
    " "
   ]
  },
  {
   "cell_type": "markdown",
   "metadata": {
    "_cell_guid": "c5537638-11a3-4997-8a9c-6d3e0896bbc1",
    "_uuid": "8c9322eb02ff71a5d176df71950925f7ef66b337",
    "collapsed": true
   },
   "source": [
    "### XgBoost Implementation"
   ]
  },
  {
   "cell_type": "code",
   "execution_count": null,
   "metadata": {
    "_cell_guid": "3a7793c4-6fd9-41a9-97eb-682f35074207",
    "_uuid": "537c3ded92f5ecf30d640b58242c2bb60a3b254a",
    "collapsed": true
   },
   "outputs": [],
   "source": [
    "   \n",
    "dtrain = xgb.DMatrix(X_train, label=y_train)\n",
    "dvalid = xgb.DMatrix(X_test, label=y_test)\n",
    "dtest = xgb.DMatrix(test[feature_names].values)\n",
    "watchlist = [(dtrain, 'train'), (dvalid, 'valid')]\n",
    "\n",
    "# Try different parameters! My favorite is random search :)\n",
    "xgb_pars = {'min_child_weight': 10, 'eta': 0.04, 'colsample_bytree': 0.8, 'max_depth': 15,\n",
    "            'subsample': 0.75, 'lambda': 2, 'nthread': -1, 'booster' : 'gbtree', 'silent': 1, 'gamma' : 0,\n",
    "            'eval_metric': 'rmse', 'objective': 'reg:linear'}    "
   ]
  },
  {
   "cell_type": "code",
   "execution_count": null,
   "metadata": {
    "_cell_guid": "c44a7935-7873-4f3b-8233-e18616ddf73b",
    "_uuid": "54d6183828377cd842ba6aa7a8bde18a34f6db4d"
   },
   "outputs": [
    {
     "name": "stdout",
     "output_type": "stream",
     "text": [
      "[0]\ttrain-rmse:5.78027\tvalid-rmse:5.78132\n",
      "Multiple eval metrics have been passed: 'valid-rmse' will be used for early stopping.\n",
      "\n",
      "Will train until valid-rmse hasn't improved in 250 rounds.\n",
      "[15]\ttrain-rmse:3.15447\tvalid-rmse:3.15578\n",
      "[30]\ttrain-rmse:1.74355\tvalid-rmse:1.74614\n",
      "[45]\ttrain-rmse:0.99851\tvalid-rmse:1.00462\n",
      "[60]\ttrain-rmse:0.622039\tvalid-rmse:0.636125\n",
      "[75]\ttrain-rmse:0.446446\tvalid-rmse:0.472037\n",
      "[90]\ttrain-rmse:0.372505\tvalid-rmse:0.408913\n",
      "[105]\ttrain-rmse:0.341926\tvalid-rmse:0.386649\n",
      "[120]\ttrain-rmse:0.327478\tvalid-rmse:0.378773\n",
      "[135]\ttrain-rmse:0.318773\tvalid-rmse:0.375482\n",
      "[150]\ttrain-rmse:0.313126\tvalid-rmse:0.373948\n",
      "[165]\ttrain-rmse:0.307986\tvalid-rmse:0.372832\n",
      "[180]\ttrain-rmse:0.304361\tvalid-rmse:0.372269\n",
      "[195]\ttrain-rmse:0.300976\tvalid-rmse:0.371695\n",
      "[210]\ttrain-rmse:0.298158\tvalid-rmse:0.371214\n",
      "[225]\ttrain-rmse:0.29614\tvalid-rmse:0.370932\n",
      "[240]\ttrain-rmse:0.293713\tvalid-rmse:0.370567\n",
      "[255]\ttrain-rmse:0.291914\tvalid-rmse:0.370364\n",
      "[270]\ttrain-rmse:0.289872\tvalid-rmse:0.370157\n",
      "[285]\ttrain-rmse:0.287736\tvalid-rmse:0.369919\n",
      "[300]\ttrain-rmse:0.286319\tvalid-rmse:0.369817\n",
      "[315]\ttrain-rmse:0.284228\tvalid-rmse:0.369525\n",
      "[330]\ttrain-rmse:0.282445\tvalid-rmse:0.369391\n"
     ]
    }
   ],
   "source": [
    "model = xgb.train(xgb_pars, dtrain, 500, watchlist, early_stopping_rounds=250,\n",
    "                  maximize=False, verbose_eval=15)"
   ]
  },
  {
   "cell_type": "code",
   "execution_count": null,
   "metadata": {
    "_cell_guid": "1e44ac42-43ad-430c-8cab-f6ba4a053f08",
    "_uuid": "da3471a9cf011c5b5fd1d899ef2634068da9c88c",
    "collapsed": true
   },
   "outputs": [],
   "source": [
    "ytest = model.predict(dtest)"
   ]
  },
  {
   "cell_type": "code",
   "execution_count": null,
   "metadata": {
    "_cell_guid": "6e15204d-cb84-4e80-9615-2671de8b5e60",
    "_uuid": "dafbc838ec6ee8ba604b2c3c774bbd1079becbf1",
    "collapsed": true
   },
   "outputs": [],
   "source": [
    "print('Test shape OK.') if test.shape[0] == ytest.shape[0] else print('Oops')\n",
    "test['trip_duration'] = np.exp(ytest) - 1\n",
    "test[['id', 'trip_duration']].to_csv('xgb_submission.csv.gz', index=False, compression='gzip')\n",
    "\n",
    "print('Valid prediction mean: %.3f' % ypred.mean())\n",
    "print('Test prediction mean: %.3f' % ytest.mean())\n",
    "\n",
    "fig, ax = plt.subplots(nrows=2, sharex=True, sharey=True)\n",
    "sns.distplot(ypred, ax=ax[0], color='red', label='validation prediction')\n",
    "sns.distplot(ytest, ax=ax[1], color='blue', label='test prediction')\n",
    "ax[0].legend(loc=0)\n",
    "ax[1].legend(loc=0)\n",
    "plt.show()\n",
    "\n",
    "t1 = dt.datetime.now()\n",
    "print('Total time: %i seconds' % (t1 - t0).seconds)"
   ]
  }
 ],
 "metadata": {
  "anaconda-cloud": {},
  "kernelspec": {
   "display_name": "Python 3",
   "language": "python",
   "name": "python3"
  },
  "language_info": {
   "codemirror_mode": {
    "name": "ipython",
    "version": 3
   },
   "file_extension": ".py",
   "mimetype": "text/x-python",
   "name": "python",
   "nbconvert_exporter": "python",
   "pygments_lexer": "ipython3",
   "version": "3.8.2"
  }
 },
 "nbformat": 4,
 "nbformat_minor": 1
}
